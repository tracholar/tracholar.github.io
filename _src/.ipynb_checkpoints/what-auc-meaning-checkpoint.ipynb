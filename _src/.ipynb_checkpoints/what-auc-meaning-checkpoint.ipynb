{
 "cells": [
  {
   "cell_type": "markdown",
   "metadata": {},
   "source": [
    "# 两分类问题中AUC指标\n",
    "\n",
    "## 定义\n",
    "\n",
    "分类器的评价常用指标有准确率、F1值、AUC等。其中AUC是来源于[ROC曲线](https://en.wikipedia.org/wiki/Receiver_operating_characteristic)或者叫做受试者曲线。ROC曲线横轴是FPR（False Positive Rate 假阳性率，即判断为正例但实际为负例的比例），纵轴是TPR（True Positive Rate 真阳性率，即判断为正例且实际为正例的个数占全部正例的比例）。ROC曲线只对二分类问题有效，而尤其当正负样本不平衡时，这种评价比起准确率更有效，当然也可以用F1值评价，但是F1值依赖于判别阈值的选取，而AUC没有这个问题。\n",
    "\n",
    "AUC定义为ROC曲线下的面积，实际计算中样本数目有限，常用数值积分的方法近似计算。根据定义可以得到如下公式\n",
    "$$\n",
    "AUC = \\int_{-\\infty}^{\\infty} TPR(T) d FPR(T) \\\\\n",
    "FPR = \\frac{\\#FP}{\\#N} \\\\\n",
    "TPR = \\frac{\\#TP}{\\#P}\n",
    "$$\n",
    "其中T是阈值，也是最终模型输出的统计变量，比如Logistic Regression输出的概率值，取值为[0,1]，一般地认为T取值范围是$\\mathbb{R}$。\n",
    "FP是错的正例数目（实际是负例），N是负例总数，TP是对的正例数目，P是总的正例数目。\n",
    "\n",
    "\n",
    "对于一个数据集D，设其中正例样本是D1，负例样本是D0。设在这两个集合中，统计量$T$的概率密度分布分别是$p_1(T)$和$p_0(T)$。\n",
    "那么T的取值在 $T'$到$T'+dT'$之间的正负样本数目分别是\n",
    "$$\n",
    "d \\#TP(T') = \\#P \\times p_1(T')dT' \\\\\n",
    "d \\#FP(T') = \\#N \\times p_0(T')dT' \n",
    "$$\n",
    "上面的$p_1(T')dT'$是在集合D1中取值在这个范围的样本概率，乘上总的样本数目就是D1中T的取值在这个区间的样本数目TP了。\n",
    "因此有\n",
    "$$\n",
    "d TPR(T') = \\frac{d \\#TP(T')}{\\#P} = p_1(T')dT' \\\\\n",
    "d FPR(T') = \\frac{d \\#FP(T')}{\\#N} = p_0(T')dT'\n",
    "$$\n",
    "积分可得\n",
    "$$\n",
    "TPR(T) = \\int_T^{\\infty} p_1(T')dT' \\\\\n",
    "FPR(T) = \\int_T^{\\infty} p_0(T')dT' \n",
    "$$\n",
    "代入AUC的计算公式可以得到下式\n",
    "\n",
    "$$\n",
    "AUC = \\int_{-\\infty}^{\\infty} TPR(T) p_0(T) d T\n",
    "$$\n",
    "\n",
    "## 物理意义\n",
    "\n",
    "AUC有一个物理意义是说，随机从D1和D0中取出一个正样本和负样本，他们的统计量分别为$T'$和$T$，那么$T'>T$的概率就是AUC。\n",
    "\n",
    "下面证明这个说法，将TPR的表达式代入AUC表达式有\n",
    "$$\n",
    "AUC = \\int_{-\\infty}^{\\infty} \\int_T^{\\infty} p_1(T') p_0(T) d T dT'\n",
    "$$\n",
    "这是个二重积分，积分区域是\n",
    "$$\n",
    "D(T,T') = {(T,T'):T'>T}\n",
    "$$\n",
    "而$ p_0(T) d T$和$ p_1(T') d T'$分别是上述随机取出的两个的统计量落在$(T',T'+dT')$和$(T,T+dT)$区间的概率微元，因此上式就是$T'>T$的概率，这样就证明了上述论断。\n",
    "\n",
    "## AUC的例子\n",
    "下面以Python的[scikit-learn](http://scikit-learn.org)工具包为例计算模型的AUC，使用工具包自带的iris数据集。"
   ]
  },
  {
   "cell_type": "code",
   "execution_count": 5,
   "metadata": {
    "collapsed": false
   },
   "outputs": [],
   "source": [
    "import sklearn\n",
    "from sklearn.datasets import load_iris\n",
    "from sklearn.linear_model import LogisticRegression\n",
    "import matplotlib.pyplot as plt\n",
    "\n",
    "plt.style.use('ggplot')\n",
    "%matplotlib inline\n",
    "\n",
    "iris = load_iris()\n"
   ]
  },
  {
   "cell_type": "markdown",
   "metadata": {},
   "source": [
    "可视化数据，仅仅以前面两维特征作为模型的输入，鸢尾花数据集参考UCI中的说明。"
   ]
  },
  {
   "cell_type": "code",
   "execution_count": 62,
   "metadata": {
    "collapsed": false
   },
   "outputs": [
    {
     "data": {
      "text/plain": [
       "<matplotlib.text.Text at 0xab091f0>"
      ]
     },
     "execution_count": 62,
     "metadata": {},
     "output_type": "execute_result"
    },
    {
     "data": {
      "image/png": "[encoded data removed]",
      "text/plain": [
       "<matplotlib.figure.Figure at 0xaea0fd0>"
      ]
     },
     "metadata": {},
     "output_type": "display_data"
    }
   ],
   "source": [
    "plt.plot(iris.data[iris.target==0,0], iris.data[iris.target==0,1], 'r.')\n",
    "plt.plot(iris.data[iris.target==1,0], iris.data[iris.target==1,1], 'g.')\n",
    "plt.plot(iris.data[iris.target==2,0], iris.data[iris.target==2,1], 'b.')\n",
    "\n",
    "plt.xlabel(iris.feature_names[0])\n",
    "plt.ylabel(iris.feature_names[1])"
   ]
  },
  {
   "cell_type": "code",
   "execution_count": 63,
   "metadata": {
    "collapsed": false,
    "scrolled": false
   },
   "outputs": [
    {
     "data": {
      "text/plain": [
       "0.66666666666666663"
      ]
     },
     "execution_count": 63,
     "metadata": {},
     "output_type": "execute_result"
    }
   ],
   "source": [
    "lr = LogisticRegression(C=1e-4)\n",
    "X = iris.data[:,:2]\n",
    "Y = iris.target==0\n",
    "lr.fit(X,Y)\n",
    "lr.score(X,Y)"
   ]
  },
  {
   "cell_type": "code",
   "execution_count": 64,
   "metadata": {
    "collapsed": false
   },
   "outputs": [
    {
     "name": "stdout",
     "output_type": "stream",
     "text": [
      "AUC: 0.9124\n"
     ]
    },
    {
     "data": {
      "image/png": "[encoded data removed]",
      "text/plain": [
       "<matplotlib.figure.Figure at 0xacbc9f0>"
      ]
     },
     "metadata": {},
     "output_type": "display_data"
    }
   ],
   "source": [
    "from sklearn.metrics import roc_auc_score,roc_curve,auc\n",
    "fpr, tpr, t = roc_curve(Y,lr.predict_proba(X)[:,1])\n",
    "plt.plot(fpr, tpr,'.-')\n",
    "plt.plot(fpr,fpr,'--')\n",
    "plt.xlabel('FPR')\n",
    "plt.ylabel('TPR')\n",
    "print 'AUC:',auc(fpr,tpr)"
   ]
  },
  {
   "cell_type": "markdown",
   "metadata": {},
   "source": [
    "红色的线是模型预测的结果，而蓝色的线代表随机猜测的结果，红色线就是ROC曲线，该曲线下的面积就是AUC，越接近于1表明模型越好。"
   ]
  }
 ],
 "metadata": {
  "kernelspec": {
   "display_name": "Python 2",
   "language": "python",
   "name": "python2"
  },
  "language_info": {
   "codemirror_mode": {
    "name": "ipython",
    "version": 2
   },
   "file_extension": ".py",
   "mimetype": "text/x-python",
   "name": "python",
   "nbconvert_exporter": "python",
   "pygments_lexer": "ipython2",
   "version": "2.7.6"
  }
 },
 "nbformat": 4,
 "nbformat_minor": 0
}
